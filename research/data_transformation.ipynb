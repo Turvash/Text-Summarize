{
 "cells": [
  {
   "cell_type": "code",
   "execution_count": 2,
   "id": "f8398c8e",
   "metadata": {},
   "outputs": [],
   "source": [
    "import os"
   ]
  },
  {
   "cell_type": "code",
   "execution_count": 3,
   "id": "f6577049",
   "metadata": {},
   "outputs": [
    {
     "data": {
      "text/plain": [
       "'c:\\\\Users\\\\singh\\\\OneDrive\\\\Desktop\\\\Text-Summarize\\\\research'"
      ]
     },
     "execution_count": 3,
     "metadata": {},
     "output_type": "execute_result"
    }
   ],
   "source": [
    "%pwd"
   ]
  },
  {
   "cell_type": "code",
   "execution_count": 4,
   "id": "84e88291",
   "metadata": {},
   "outputs": [],
   "source": [
    "os.chdir(\"../\")"
   ]
  },
  {
   "cell_type": "code",
   "execution_count": 5,
   "id": "84de9f65",
   "metadata": {},
   "outputs": [
    {
     "data": {
      "text/plain": [
       "'c:\\\\Users\\\\singh\\\\OneDrive\\\\Desktop\\\\Text-Summarize'"
      ]
     },
     "execution_count": 5,
     "metadata": {},
     "output_type": "execute_result"
    }
   ],
   "source": [
    "%pwd"
   ]
  },
  {
   "cell_type": "code",
   "execution_count": 39,
   "id": "32766879",
   "metadata": {},
   "outputs": [],
   "source": [
    "from dataclasses import dataclass\n",
    "from pathlib import Path\n",
    "\n",
    "\n",
    "@dataclass(frozen=True)\n",
    "class DataTransformationConfig:\n",
    "    root_dir: Path\n",
    "    data_path: Path\n",
    "    tokenizer_name: Path"
   ]
  },
  {
   "cell_type": "code",
   "execution_count": 40,
   "id": "3607640d",
   "metadata": {},
   "outputs": [],
   "source": [
    "os.chdir(\"src\")"
   ]
  },
  {
   "cell_type": "code",
   "execution_count": 41,
   "id": "2943ee2e",
   "metadata": {},
   "outputs": [],
   "source": [
    "from TextSummarization.constants import *\n"
   ]
  },
  {
   "cell_type": "code",
   "execution_count": 42,
   "id": "780e1423",
   "metadata": {},
   "outputs": [],
   "source": [
    "from TextSummarization.utils.common import read_yaml, create_directories"
   ]
  },
  {
   "cell_type": "code",
   "execution_count": 43,
   "id": "c0224fb9",
   "metadata": {},
   "outputs": [],
   "source": [
    "class ConfigurationManager:\n",
    "    def __init__(\n",
    "        self,\n",
    "        config_filepath = CONFIG_FILE_NAME,\n",
    "        params_filepath = PARAMS_FILE_NAME):\n",
    "\n",
    "        self.config = read_yaml(config_filepath)\n",
    "        self.params = read_yaml(params_filepath)\n",
    "\n",
    "        create_directories([self.config.artifacts_root])\n",
    "\n",
    "\n",
    "    \n",
    "    def get_data_transformation_config(self) -> DataTransformationConfig:\n",
    "        config = self.config.data_transformation\n",
    "\n",
    "        create_directories([config.root_dir])\n",
    "\n",
    "        data_transformation_config = DataTransformationConfig(\n",
    "            root_dir=config.root_dir,\n",
    "            data_path=config.data_path,\n",
    "            tokenizer_name = config.tokenizer_name\n",
    "        )\n",
    "\n",
    "        return data_transformation_config"
   ]
  },
  {
   "cell_type": "code",
   "execution_count": 11,
   "id": "ba112b86",
   "metadata": {},
   "outputs": [
    {
     "name": "stdout",
     "output_type": "stream",
     "text": [
      "Requirement already satisfied: transformers in c:\\users\\singh\\onedrive\\desktop\\text-summarize\\text-summarize\\lib\\site-packages (4.55.2)\n",
      "Requirement already satisfied: datasets in c:\\users\\singh\\onedrive\\desktop\\text-summarize\\text-summarize\\lib\\site-packages (4.0.0)\n",
      "Requirement already satisfied: filelock in c:\\users\\singh\\onedrive\\desktop\\text-summarize\\text-summarize\\lib\\site-packages (from transformers) (3.19.1)\n",
      "Requirement already satisfied: huggingface-hub<1.0,>=0.34.0 in c:\\users\\singh\\onedrive\\desktop\\text-summarize\\text-summarize\\lib\\site-packages (from transformers) (0.34.4)\n",
      "Requirement already satisfied: numpy>=1.17 in c:\\users\\singh\\onedrive\\desktop\\text-summarize\\text-summarize\\lib\\site-packages (from transformers) (2.3.2)\n",
      "Requirement already satisfied: packaging>=20.0 in c:\\users\\singh\\onedrive\\desktop\\text-summarize\\text-summarize\\lib\\site-packages (from transformers) (25.0)\n",
      "Requirement already satisfied: pyyaml>=5.1 in c:\\users\\singh\\onedrive\\desktop\\text-summarize\\text-summarize\\lib\\site-packages (from transformers) (6.0.2)\n",
      "Requirement already satisfied: regex!=2019.12.17 in c:\\users\\singh\\onedrive\\desktop\\text-summarize\\text-summarize\\lib\\site-packages (from transformers) (2025.7.34)\n",
      "Requirement already satisfied: requests in c:\\users\\singh\\onedrive\\desktop\\text-summarize\\text-summarize\\lib\\site-packages (from transformers) (2.32.4)\n",
      "Requirement already satisfied: tokenizers<0.22,>=0.21 in c:\\users\\singh\\onedrive\\desktop\\text-summarize\\text-summarize\\lib\\site-packages (from transformers) (0.21.4)\n",
      "Requirement already satisfied: safetensors>=0.4.3 in c:\\users\\singh\\onedrive\\desktop\\text-summarize\\text-summarize\\lib\\site-packages (from transformers) (0.6.2)\n",
      "Requirement already satisfied: tqdm>=4.27 in c:\\users\\singh\\onedrive\\desktop\\text-summarize\\text-summarize\\lib\\site-packages (from transformers) (4.67.1)\n",
      "Requirement already satisfied: fsspec>=2023.5.0 in c:\\users\\singh\\onedrive\\desktop\\text-summarize\\text-summarize\\lib\\site-packages (from huggingface-hub<1.0,>=0.34.0->transformers) (2025.3.0)\n",
      "Requirement already satisfied: typing-extensions>=3.7.4.3 in c:\\users\\singh\\onedrive\\desktop\\text-summarize\\text-summarize\\lib\\site-packages (from huggingface-hub<1.0,>=0.34.0->transformers) (4.14.1)\n",
      "Requirement already satisfied: pyarrow>=15.0.0 in c:\\users\\singh\\onedrive\\desktop\\text-summarize\\text-summarize\\lib\\site-packages (from datasets) (21.0.0)\n",
      "Requirement already satisfied: dill<0.3.9,>=0.3.0 in c:\\users\\singh\\onedrive\\desktop\\text-summarize\\text-summarize\\lib\\site-packages (from datasets) (0.3.8)\n",
      "Requirement already satisfied: pandas in c:\\users\\singh\\onedrive\\desktop\\text-summarize\\text-summarize\\lib\\site-packages (from datasets) (2.3.1)\n",
      "Requirement already satisfied: xxhash in c:\\users\\singh\\onedrive\\desktop\\text-summarize\\text-summarize\\lib\\site-packages (from datasets) (3.5.0)\n",
      "Requirement already satisfied: multiprocess<0.70.17 in c:\\users\\singh\\onedrive\\desktop\\text-summarize\\text-summarize\\lib\\site-packages (from datasets) (0.70.16)\n",
      "Requirement already satisfied: aiohttp!=4.0.0a0,!=4.0.0a1 in c:\\users\\singh\\onedrive\\desktop\\text-summarize\\text-summarize\\lib\\site-packages (from fsspec[http]<=2025.3.0,>=2023.1.0->datasets) (3.12.15)\n",
      "Requirement already satisfied: aiohappyeyeballs>=2.5.0 in c:\\users\\singh\\onedrive\\desktop\\text-summarize\\text-summarize\\lib\\site-packages (from aiohttp!=4.0.0a0,!=4.0.0a1->fsspec[http]<=2025.3.0,>=2023.1.0->datasets) (2.6.1)\n",
      "Requirement already satisfied: aiosignal>=1.4.0 in c:\\users\\singh\\onedrive\\desktop\\text-summarize\\text-summarize\\lib\\site-packages (from aiohttp!=4.0.0a0,!=4.0.0a1->fsspec[http]<=2025.3.0,>=2023.1.0->datasets) (1.4.0)\n",
      "Requirement already satisfied: attrs>=17.3.0 in c:\\users\\singh\\onedrive\\desktop\\text-summarize\\text-summarize\\lib\\site-packages (from aiohttp!=4.0.0a0,!=4.0.0a1->fsspec[http]<=2025.3.0,>=2023.1.0->datasets) (25.3.0)\n",
      "Requirement already satisfied: frozenlist>=1.1.1 in c:\\users\\singh\\onedrive\\desktop\\text-summarize\\text-summarize\\lib\\site-packages (from aiohttp!=4.0.0a0,!=4.0.0a1->fsspec[http]<=2025.3.0,>=2023.1.0->datasets) (1.7.0)\n",
      "Requirement already satisfied: multidict<7.0,>=4.5 in c:\\users\\singh\\onedrive\\desktop\\text-summarize\\text-summarize\\lib\\site-packages (from aiohttp!=4.0.0a0,!=4.0.0a1->fsspec[http]<=2025.3.0,>=2023.1.0->datasets) (6.6.4)\n",
      "Requirement already satisfied: propcache>=0.2.0 in c:\\users\\singh\\onedrive\\desktop\\text-summarize\\text-summarize\\lib\\site-packages (from aiohttp!=4.0.0a0,!=4.0.0a1->fsspec[http]<=2025.3.0,>=2023.1.0->datasets) (0.3.2)\n",
      "Requirement already satisfied: yarl<2.0,>=1.17.0 in c:\\users\\singh\\onedrive\\desktop\\text-summarize\\text-summarize\\lib\\site-packages (from aiohttp!=4.0.0a0,!=4.0.0a1->fsspec[http]<=2025.3.0,>=2023.1.0->datasets) (1.20.1)\n",
      "Requirement already satisfied: idna>=2.0 in c:\\users\\singh\\onedrive\\desktop\\text-summarize\\text-summarize\\lib\\site-packages (from yarl<2.0,>=1.17.0->aiohttp!=4.0.0a0,!=4.0.0a1->fsspec[http]<=2025.3.0,>=2023.1.0->datasets) (3.10)\n",
      "Requirement already satisfied: charset_normalizer<4,>=2 in c:\\users\\singh\\onedrive\\desktop\\text-summarize\\text-summarize\\lib\\site-packages (from requests->transformers) (3.4.3)\n",
      "Requirement already satisfied: urllib3<3,>=1.21.1 in c:\\users\\singh\\onedrive\\desktop\\text-summarize\\text-summarize\\lib\\site-packages (from requests->transformers) (2.5.0)\n",
      "Requirement already satisfied: certifi>=2017.4.17 in c:\\users\\singh\\onedrive\\desktop\\text-summarize\\text-summarize\\lib\\site-packages (from requests->transformers) (2025.8.3)\n",
      "Requirement already satisfied: colorama in c:\\users\\singh\\onedrive\\desktop\\text-summarize\\text-summarize\\lib\\site-packages (from tqdm>=4.27->transformers) (0.4.6)\n",
      "Requirement already satisfied: python-dateutil>=2.8.2 in c:\\users\\singh\\onedrive\\desktop\\text-summarize\\text-summarize\\lib\\site-packages (from pandas->datasets) (2.9.0.post0)\n",
      "Requirement already satisfied: pytz>=2020.1 in c:\\users\\singh\\onedrive\\desktop\\text-summarize\\text-summarize\\lib\\site-packages (from pandas->datasets) (2025.2)\n",
      "Requirement already satisfied: tzdata>=2022.7 in c:\\users\\singh\\onedrive\\desktop\\text-summarize\\text-summarize\\lib\\site-packages (from pandas->datasets) (2025.2)\n",
      "Requirement already satisfied: six>=1.5 in c:\\users\\singh\\onedrive\\desktop\\text-summarize\\text-summarize\\lib\\site-packages (from python-dateutil>=2.8.2->pandas->datasets) (1.17.0)\n"
     ]
    }
   ],
   "source": [
    "!pip install transformers datasets"
   ]
  },
  {
   "cell_type": "code",
   "execution_count": 44,
   "id": "8cbca33d",
   "metadata": {},
   "outputs": [],
   "source": [
    "import os\n",
    "from TextSummarization.logging import logger\n",
    "from transformers import AutoTokenizer\n",
    "from datasets import load_dataset, load_from_disk"
   ]
  },
  {
   "cell_type": "code",
   "execution_count": null,
   "id": "05351bdf",
   "metadata": {},
   "outputs": [],
   "source": []
  },
  {
   "cell_type": "code",
   "execution_count": 45,
   "id": "bac3d591",
   "metadata": {},
   "outputs": [
    {
     "data": {
      "text/plain": [
       "'\\nclass DataTransformation:\\n    def __init__(self, config: DataTransformationConfig):\\n        self.config = config\\n        self.tokenizer = AutoTokenizer.from_pretrained(config.tokenizer_name)\\n\\n\\n\\n    def convert_examples_to_features(self, example_batch):\\n        # Tokenize dialogues (inputs) and summaries (labels)\\n        inputs = self.tokenizer(\\n            example_batch[\"dialogue\"],\\n            max_length=1024,\\n            truncation=True,\\n            padding=\"max_length\"\\n        )\\n\\n        targets = self.tokenizer(\\n            example_batch[\"summary\"],\\n            max_length=128,\\n            truncation=True,\\n            padding=\"max_length\"\\n        )\\n\\n        inputs[\"labels\"] = targets[\"input_ids\"]\\n        return inputs\\n\\n    def convert(self):\\n        dataset_samsum = load_dataset(\\n            \"csv\",\\n            data_files={\\n                \"train\": \"artifacts/data_ingestion/train.csv\",\\n                \"validation\": \"artifacts/data_ingestion/validation.csv\",\\n                \"test\": \"artifacts/data_ingestion/test.csv\"\\n            }\\n        )\\n\\n\\n\\n        dataset_samsum_pt = dataset_samsum.map(\\n            self.convert_examples_to_features,\\n            batched=True\\n        )\\n\\n        dataset_samsum_pt.save_to_disk(os.path.join(self.config.root_dir, \"samsum_dataset\"))\\n'"
      ]
     },
     "execution_count": 45,
     "metadata": {},
     "output_type": "execute_result"
    }
   ],
   "source": [
    "\n",
    "class DataTransformation:\n",
    "    def __init__(self, config: DataTransformationConfig):\n",
    "        self.config = config\n",
    "        self.tokenizer = AutoTokenizer.from_pretrained(config.tokenizer_name)\n",
    "\n",
    "\n",
    "    \n",
    "    def convert_examples_to_features(self,example_batch):\n",
    "        input_encodings = self.tokenizer(example_batch['dialogue'] , max_length = 1024, truncation = True )\n",
    "        \n",
    "        with self.tokenizer.as_target_tokenizer():\n",
    "            target_encodings = self.tokenizer(example_batch['summary'], max_length = 128, truncation = True )\n",
    "            \n",
    "        return {\n",
    "            'input_ids' : input_encodings['input_ids'],\n",
    "            'attention_mask': input_encodings['attention_mask'],\n",
    "            'labels': target_encodings['input_ids']\n",
    "        }\n",
    "    \n",
    "\n",
    "    def convert(self):\n",
    "        dataset_samsum = load_from_disk(self.config.data_path)\n",
    "        dataset_samsum_pt = dataset_samsum.map(self.convert_examples_to_features, batched = True)\n",
    "        dataset_samsum_pt.save_to_disk(os.path.join(self.config.root_dir,\"samsum_dataset\"))\n",
    "\"\"\"\n",
    "class DataTransformation:\n",
    "    def __init__(self, config: DataTransformationConfig):\n",
    "        self.config = config\n",
    "        self.tokenizer = AutoTokenizer.from_pretrained(config.tokenizer_name)\n",
    "\n",
    "\n",
    "    \n",
    "    def convert_examples_to_features(self, example_batch):\n",
    "        # Tokenize dialogues (inputs) and summaries (labels)\n",
    "        inputs = self.tokenizer(\n",
    "            example_batch[\"dialogue\"],\n",
    "            max_length=1024,\n",
    "            truncation=True,\n",
    "            padding=\"max_length\"\n",
    "        )\n",
    "\n",
    "        targets = self.tokenizer(\n",
    "            example_batch[\"summary\"],\n",
    "            max_length=128,\n",
    "            truncation=True,\n",
    "            padding=\"max_length\"\n",
    "        )\n",
    "\n",
    "        inputs[\"labels\"] = targets[\"input_ids\"]\n",
    "        return inputs\n",
    "\n",
    "    def convert(self):\n",
    "        dataset_samsum = load_dataset(\n",
    "            \"csv\",\n",
    "            data_files={\n",
    "                \"train\": \"artifacts/data_ingestion/train.csv\",\n",
    "                \"validation\": \"artifacts/data_ingestion/validation.csv\",\n",
    "                \"test\": \"artifacts/data_ingestion/test.csv\"\n",
    "            }\n",
    "        )\n",
    "\n",
    "    \n",
    "\n",
    "        dataset_samsum_pt = dataset_samsum.map(\n",
    "            self.convert_examples_to_features,\n",
    "            batched=True\n",
    "        )\n",
    "\n",
    "        dataset_samsum_pt.save_to_disk(os.path.join(self.config.root_dir, \"samsum_dataset\"))\n",
    "\"\"\"\n"
   ]
  },
  {
   "cell_type": "code",
   "execution_count": 46,
   "id": "fa9a401a",
   "metadata": {},
   "outputs": [
    {
     "data": {
      "text/plain": [
       "'\\nimport os\\nfrom datasets import load_dataset\\nfrom transformers import AutoTokenizer\\n\\nclass DataTransformation:\\n    def __init__(self, config):\\n        self.config = config\\n        # Load tokenizer once (replace with your model name if needed)\\n        self.tokenizer = AutoTokenizer.from_pretrained(self.config.tokenizer_name)\\n\\n    def convert_examples_to_features(self, example_batch):\\n        # Ensure all values are strings (avoids TypeError: TextEncodeInput...)\\n        dialogues = [str(x) if x is not None else \"\" for x in example_batch[\"dialogue\"]]\\n        summaries = [str(x) if x is not None else \"\" for x in example_batch[\"summary\"]]\\n\\n        # Tokenize dialogues (inputs)\\n        inputs = self.tokenizer(\\n            dialogues,\\n            max_length=1024,\\n            truncation=True,\\n            padding=\"max_length\"\\n        )\\n\\n        # Tokenize summaries (labels)\\n        targets = self.tokenizer(\\n            summaries,\\n            max_length=128,\\n            truncation=True,\\n            padding=\"max_length\"\\n        )\\n\\n        # Add labels to inputs\\n        inputs[\"labels\"] = targets[\"input_ids\"]\\n        return inputs\\n\\n    def convert(self):\\n        # Load dataset from CSVs\\n        dataset_samsum = load_dataset(\\n            \"csv\",\\n            data_files={\\n                \"train\": \"artifacts/data_ingestion/train.csv\",\\n                \"validation\": \"artifacts/data_ingestion/validation.csv\",\\n                \"test\": \"artifacts/data_ingestion/test.csv\"\\n            }\\n        )\\n\\n        # Apply tokenization\\n        dataset_samsum_pt = dataset_samsum.map(\\n            self.convert_examples_to_features,\\n            batched=True,\\n            remove_columns=[\"dialogue\", \"summary\"]  # keep only tokenized features\\n        )\\n\\n        # Save processed dataset\\n        dataset_samsum_pt.save_to_disk(\\n            os.path.join(self.config.root_dir, \"samsum_dataset\")\\n        )\\n'"
      ]
     },
     "execution_count": 46,
     "metadata": {},
     "output_type": "execute_result"
    }
   ],
   "source": [
    "\"\"\"\n",
    "import os\n",
    "from datasets import load_dataset\n",
    "from transformers import AutoTokenizer\n",
    "\n",
    "class DataTransformation:\n",
    "    def __init__(self, config):\n",
    "        self.config = config\n",
    "        # Load tokenizer once (replace with your model name if needed)\n",
    "        self.tokenizer = AutoTokenizer.from_pretrained(self.config.tokenizer_name)\n",
    "\n",
    "    def convert_examples_to_features(self, example_batch):\n",
    "        # Ensure all values are strings (avoids TypeError: TextEncodeInput...)\n",
    "        dialogues = [str(x) if x is not None else \"\" for x in example_batch[\"dialogue\"]]\n",
    "        summaries = [str(x) if x is not None else \"\" for x in example_batch[\"summary\"]]\n",
    "\n",
    "        # Tokenize dialogues (inputs)\n",
    "        inputs = self.tokenizer(\n",
    "            dialogues,\n",
    "            max_length=1024,\n",
    "            truncation=True,\n",
    "            padding=\"max_length\"\n",
    "        )\n",
    "\n",
    "        # Tokenize summaries (labels)\n",
    "        targets = self.tokenizer(\n",
    "            summaries,\n",
    "            max_length=128,\n",
    "            truncation=True,\n",
    "            padding=\"max_length\"\n",
    "        )\n",
    "\n",
    "        # Add labels to inputs\n",
    "        inputs[\"labels\"] = targets[\"input_ids\"]\n",
    "        return inputs\n",
    "\n",
    "    def convert(self):\n",
    "        # Load dataset from CSVs\n",
    "        dataset_samsum = load_dataset(\n",
    "            \"csv\",\n",
    "            data_files={\n",
    "                \"train\": \"artifacts/data_ingestion/train.csv\",\n",
    "                \"validation\": \"artifacts/data_ingestion/validation.csv\",\n",
    "                \"test\": \"artifacts/data_ingestion/test.csv\"\n",
    "            }\n",
    "        )\n",
    "\n",
    "        # Apply tokenization\n",
    "        dataset_samsum_pt = dataset_samsum.map(\n",
    "            self.convert_examples_to_features,\n",
    "            batched=True,\n",
    "            remove_columns=[\"dialogue\", \"summary\"]  # keep only tokenized features\n",
    "        )\n",
    "\n",
    "        # Save processed dataset\n",
    "        dataset_samsum_pt.save_to_disk(\n",
    "            os.path.join(self.config.root_dir, \"samsum_dataset\")\n",
    "        )\n",
    "\"\"\"\n"
   ]
  },
  {
   "cell_type": "code",
   "execution_count": 48,
   "id": "5a5aac0d",
   "metadata": {},
   "outputs": [],
   "source": [
    "os.chdir(\"../\")"
   ]
  },
  {
   "cell_type": "code",
   "execution_count": 26,
   "id": "87b9baa6",
   "metadata": {},
   "outputs": [
    {
     "name": "stdout",
     "output_type": "stream",
     "text": [
      "Requirement already satisfied: tiktoken in c:\\users\\singh\\onedrive\\desktop\\text-summarize\\text-summarize\\lib\\site-packages (0.11.0)\n",
      "Requirement already satisfied: protobuf in c:\\users\\singh\\onedrive\\desktop\\text-summarize\\text-summarize\\lib\\site-packages (6.32.0)\n",
      "Requirement already satisfied: regex>=2022.1.18 in c:\\users\\singh\\onedrive\\desktop\\text-summarize\\text-summarize\\lib\\site-packages (from tiktoken) (2025.7.34)\n",
      "Requirement already satisfied: requests>=2.26.0 in c:\\users\\singh\\onedrive\\desktop\\text-summarize\\text-summarize\\lib\\site-packages (from tiktoken) (2.32.4)\n",
      "Requirement already satisfied: charset_normalizer<4,>=2 in c:\\users\\singh\\onedrive\\desktop\\text-summarize\\text-summarize\\lib\\site-packages (from requests>=2.26.0->tiktoken) (3.4.3)\n",
      "Requirement already satisfied: idna<4,>=2.5 in c:\\users\\singh\\onedrive\\desktop\\text-summarize\\text-summarize\\lib\\site-packages (from requests>=2.26.0->tiktoken) (3.10)\n",
      "Requirement already satisfied: urllib3<3,>=1.21.1 in c:\\users\\singh\\onedrive\\desktop\\text-summarize\\text-summarize\\lib\\site-packages (from requests>=2.26.0->tiktoken) (2.5.0)\n",
      "Requirement already satisfied: certifi>=2017.4.17 in c:\\users\\singh\\onedrive\\desktop\\text-summarize\\text-summarize\\lib\\site-packages (from requests>=2.26.0->tiktoken) (2025.8.3)\n",
      "Requirement already satisfied: transformers in c:\\users\\singh\\onedrive\\desktop\\text-summarize\\text-summarize\\lib\\site-packages (4.55.2)\n",
      "Requirement already satisfied: tokenizers in c:\\users\\singh\\onedrive\\desktop\\text-summarize\\text-summarize\\lib\\site-packages (0.21.4)\n",
      "Requirement already satisfied: filelock in c:\\users\\singh\\onedrive\\desktop\\text-summarize\\text-summarize\\lib\\site-packages (from transformers) (3.19.1)\n",
      "Requirement already satisfied: huggingface-hub<1.0,>=0.34.0 in c:\\users\\singh\\onedrive\\desktop\\text-summarize\\text-summarize\\lib\\site-packages (from transformers) (0.34.4)\n",
      "Requirement already satisfied: numpy>=1.17 in c:\\users\\singh\\onedrive\\desktop\\text-summarize\\text-summarize\\lib\\site-packages (from transformers) (2.3.2)\n",
      "Requirement already satisfied: packaging>=20.0 in c:\\users\\singh\\onedrive\\desktop\\text-summarize\\text-summarize\\lib\\site-packages (from transformers) (25.0)\n",
      "Requirement already satisfied: pyyaml>=5.1 in c:\\users\\singh\\onedrive\\desktop\\text-summarize\\text-summarize\\lib\\site-packages (from transformers) (6.0.2)\n",
      "Requirement already satisfied: regex!=2019.12.17 in c:\\users\\singh\\onedrive\\desktop\\text-summarize\\text-summarize\\lib\\site-packages (from transformers) (2025.7.34)\n",
      "Requirement already satisfied: requests in c:\\users\\singh\\onedrive\\desktop\\text-summarize\\text-summarize\\lib\\site-packages (from transformers) (2.32.4)\n",
      "Requirement already satisfied: safetensors>=0.4.3 in c:\\users\\singh\\onedrive\\desktop\\text-summarize\\text-summarize\\lib\\site-packages (from transformers) (0.6.2)\n",
      "Requirement already satisfied: tqdm>=4.27 in c:\\users\\singh\\onedrive\\desktop\\text-summarize\\text-summarize\\lib\\site-packages (from transformers) (4.67.1)\n",
      "Requirement already satisfied: fsspec>=2023.5.0 in c:\\users\\singh\\onedrive\\desktop\\text-summarize\\text-summarize\\lib\\site-packages (from huggingface-hub<1.0,>=0.34.0->transformers) (2025.3.0)\n",
      "Requirement already satisfied: typing-extensions>=3.7.4.3 in c:\\users\\singh\\onedrive\\desktop\\text-summarize\\text-summarize\\lib\\site-packages (from huggingface-hub<1.0,>=0.34.0->transformers) (4.14.1)\n",
      "Requirement already satisfied: colorama in c:\\users\\singh\\onedrive\\desktop\\text-summarize\\text-summarize\\lib\\site-packages (from tqdm>=4.27->transformers) (0.4.6)\n",
      "Requirement already satisfied: charset_normalizer<4,>=2 in c:\\users\\singh\\onedrive\\desktop\\text-summarize\\text-summarize\\lib\\site-packages (from requests->transformers) (3.4.3)\n",
      "Requirement already satisfied: idna<4,>=2.5 in c:\\users\\singh\\onedrive\\desktop\\text-summarize\\text-summarize\\lib\\site-packages (from requests->transformers) (3.10)\n",
      "Requirement already satisfied: urllib3<3,>=1.21.1 in c:\\users\\singh\\onedrive\\desktop\\text-summarize\\text-summarize\\lib\\site-packages (from requests->transformers) (2.5.0)\n",
      "Requirement already satisfied: certifi>=2017.4.17 in c:\\users\\singh\\onedrive\\desktop\\text-summarize\\text-summarize\\lib\\site-packages (from requests->transformers) (2025.8.3)\n"
     ]
    }
   ],
   "source": [
    "!pip install tiktoken protobuf\n",
    "!pip install --upgrade transformers tokenizers\n"
   ]
  },
  {
   "cell_type": "code",
   "execution_count": 27,
   "id": "1349bb2a",
   "metadata": {},
   "outputs": [
    {
     "name": "stdout",
     "output_type": "stream",
     "text": [
      "Requirement already satisfied: sentencepiece in c:\\users\\singh\\onedrive\\desktop\\text-summarize\\text-summarize\\lib\\site-packages (0.2.1)\n"
     ]
    }
   ],
   "source": [
    "!pip install sentencepiece\n"
   ]
  },
  {
   "cell_type": "code",
   "execution_count": 47,
   "id": "3be82fc6",
   "metadata": {},
   "outputs": [
    {
     "data": {
      "text/plain": [
       "'c:\\\\Users\\\\singh\\\\OneDrive\\\\Desktop\\\\Text-Summarize\\\\src'"
      ]
     },
     "execution_count": 47,
     "metadata": {},
     "output_type": "execute_result"
    }
   ],
   "source": [
    "%pwd"
   ]
  },
  {
   "cell_type": "code",
   "execution_count": 49,
   "id": "e3a41e8d",
   "metadata": {},
   "outputs": [
    {
     "name": "stdout",
     "output_type": "stream",
     "text": [
      "[2025-08-19 19:28:23,758 : INFO:common:yaml file: config\\config.yaml loaded successfully]\n",
      "[2025-08-19 19:28:23,779 : INFO:common:yaml file: params.yaml loaded successfully]\n",
      "[2025-08-19 19:28:23,785 : INFO:common:created directory at: artifacts]\n",
      "[2025-08-19 19:28:23,790 : INFO:common:created directory at: artifacts/data_transformation]\n"
     ]
    },
    {
     "name": "stderr",
     "output_type": "stream",
     "text": [
      "Map:   0%|          | 0/14732 [00:00<?, ? examples/s]c:\\Users\\singh\\OneDrive\\Desktop\\Text-Summarize\\Text-Summarize\\Lib\\site-packages\\transformers\\tokenization_utils_base.py:4006: UserWarning: `as_target_tokenizer` is deprecated and will be removed in v5 of Transformers. You can tokenize your labels by using the argument `text_target` of the regular `__call__` method (either in the same call as your input texts if you use the same keyword arguments, or in a separate call.\n",
      "  warnings.warn(\n",
      "Map: 100%|██████████| 14732/14732 [00:02<00:00, 6879.39 examples/s]\n",
      "Map: 100%|██████████| 819/819 [00:00<00:00, 1094.13 examples/s]\n",
      "Map: 100%|██████████| 818/818 [00:00<00:00, 5638.42 examples/s]\n",
      "Saving the dataset (1/1 shards): 100%|██████████| 14732/14732 [00:00<00:00, 352961.43 examples/s]\n",
      "Saving the dataset (1/1 shards): 100%|██████████| 819/819 [00:00<00:00, 100524.84 examples/s]\n",
      "Saving the dataset (1/1 shards): 100%|██████████| 818/818 [00:00<00:00, 103322.91 examples/s]\n"
     ]
    }
   ],
   "source": [
    "try:\n",
    "    config = ConfigurationManager()\n",
    "    data_transformation_config = config.get_data_transformation_config()\n",
    "    data_transformation = DataTransformation(config=data_transformation_config)\n",
    "    data_transformation.convert()\n",
    "except Exception as e:\n",
    "    raise e"
   ]
  },
  {
   "cell_type": "code",
   "execution_count": null,
   "id": "0464d3d1",
   "metadata": {},
   "outputs": [],
   "source": []
  }
 ],
 "metadata": {
  "kernelspec": {
   "display_name": "Python 3",
   "language": "python",
   "name": "python3"
  },
  "language_info": {
   "codemirror_mode": {
    "name": "ipython",
    "version": 3
   },
   "file_extension": ".py",
   "mimetype": "text/x-python",
   "name": "python",
   "nbconvert_exporter": "python",
   "pygments_lexer": "ipython3",
   "version": "3.13.5"
  }
 },
 "nbformat": 4,
 "nbformat_minor": 5
}
